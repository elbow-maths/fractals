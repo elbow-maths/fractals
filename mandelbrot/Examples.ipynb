{
 "cells": [
  {
   "cell_type": "markdown",
   "id": "59946d78",
   "metadata": {},
   "source": [
    "This notebook will guide you through how to generate your own plots of the Mandelbrot set. The code for this was created by following the tutorial at:\n",
    "https://realpython.com/mandelbrot-set-python/"
   ]
  },
  {
   "cell_type": "code",
   "execution_count": 1,
   "id": "64470095",
   "metadata": {},
   "outputs": [],
   "source": [
    "from scripts import *"
   ]
  },
  {
   "cell_type": "markdown",
   "id": "3303ff4e",
   "metadata": {},
   "source": [
    "First set the size of the image that you would like to generate in pixels. For this simple example I have chosen a square."
   ]
  },
  {
   "cell_type": "code",
   "execution_count": 2,
   "id": "da1bcbf6",
   "metadata": {},
   "outputs": [],
   "source": [
    "width,height = 512,512"
   ]
  },
  {
   "cell_type": "markdown",
   "id": "4cefeab9",
   "metadata": {},
   "source": [
    "The next step is to create our colour palette. This will allow us to add a list of colours, and then convert them into a gradient. The colours are defined using the RGB method. Here I have chosen a rainbow of colour. If your search for RGB colour picker Google has a nice tool for finding RGB numbers."
   ]
  },
  {
   "cell_type": "code",
   "execution_count": 3,
   "id": "5b368509",
   "metadata": {},
   "outputs": [],
   "source": [
    "colours = [(148, 0, 211), (75, 0, 130), (0, 0, 255), (0, 255, 0), (255, 255, 0), (255, 127, 0), (255, 0, 0)]"
   ]
  },
  {
   "cell_type": "markdown",
   "id": "dc27e914",
   "metadata": {},
   "source": [
    "The list of colours are processed by the make gradient function. Note that before we enter them into this we need to normalise them. This means all the numbers need to be between 0 and 1 so we divide them all by 255.\n",
    "Another option we have in the make_gradient function is to set the mathematical form used to spread the colours over the gradient. The method comes from the options for \"kind\" in the interp1d function in SciPy:\n",
    "https://docs.scipy.org/doc/scipy/reference/generated/scipy.interpolate.interp1d.html"
   ]
  },
  {
   "cell_type": "code",
   "execution_count": 4,
   "id": "c1c04d96",
   "metadata": {},
   "outputs": [],
   "source": [
    "colours = [tuple(i/255 for i in colour) for colour in colours]\n",
    "gradient = make_gradient(colours, interpolation=\"linear\")"
   ]
  },
  {
   "cell_type": "markdown",
   "id": "6d1cda49",
   "metadata": {},
   "source": [
    "However, the gradient function created would be very slow if we called it for every pixel we calculate for our Mandelbrot Set. So, we create a palette of a set number of colours, in this example 256"
   ]
  },
  {
   "cell_type": "code",
   "execution_count": 9,
   "id": "8796a1c2",
   "metadata": {},
   "outputs": [],
   "source": [
    "num_colours = 256\n",
    "palette = denormalise([gradient(i/num_colours) for i in range(num_colours)])"
   ]
  },
  {
   "cell_type": "markdown",
   "id": "be0ed2af",
   "metadata": {},
   "source": [
    "Now we have set up our palette we can start to build our Mandelbrot set.\n",
    "To do this we have a object that we create and we tell it the maximum number of iterations it should perform before determining if the point is stable and the radius once a point has exceeded we consider as unstable.\n",
    "\n",
    "The Mandelbrot set is a plot of the complex values of c that are stable under the repeated iteration of $z_{n}=z_{n-1}^2 + c$. The stability is measured as the number of iterations for the magnitude of z to exceed the escape radius. We assume if a point hasn't exceeded the escape radius in our given maximum number of iterations that it is stable."
   ]
  },
  {
   "cell_type": "code",
   "execution_count": 6,
   "id": "02b43647",
   "metadata": {},
   "outputs": [],
   "source": [
    "mandelbrot_set = MandelbrotSet(max_iterations=100,escape_radius=2)"
   ]
  },
  {
   "cell_type": "markdown",
   "id": "5b210436",
   "metadata": {},
   "source": [
    "We now create an object for the image we will create"
   ]
  },
  {
   "cell_type": "code",
   "execution_count": 7,
   "id": "ffd0788f",
   "metadata": {},
   "outputs": [],
   "source": [
    "image = Image.new(mode=\"RGB\", size=(width,height))"
   ]
  },
  {
   "cell_type": "markdown",
   "id": "b588f606",
   "metadata": {},
   "source": [
    "We then create a viewport. This determines where we want to centre our image and how wide it should be. Note that the centre is given as a complex number because the plot of the Mandelbrot set is on the complex plane. The width is given as a real number because the horizontal axis is the real axis."
   ]
  },
  {
   "cell_type": "code",
   "execution_count": 8,
   "id": "cc4b42bb",
   "metadata": {},
   "outputs": [],
   "source": [
    "viewport = Viewport(image,center=-0.7435+0.1314j,width=0.002)"
   ]
  },
  {
   "cell_type": "markdown",
   "id": "4fa3abe0",
   "metadata": {},
   "source": [
    "Now we pull these all together in the paint function to produce our image and show it:"
   ]
  },
  {
   "cell_type": "code",
   "execution_count": 11,
   "id": "bbbcf730",
   "metadata": {},
   "outputs": [],
   "source": [
    "paint(mandelbrot_set,viewport,palette,smooth=True)\n",
    "image.show(\"mandelbot-output.png\")"
   ]
  },
  {
   "cell_type": "markdown",
   "id": "8a8b40ee",
   "metadata": {},
   "source": [
    "You can now play with the parameters in this notebook to produce your own plots of the Mandelbrot set. For inspiration why not have a look at Wikipedia:\n",
    "https://en.wikipedia.org/wiki/Mandelbrot_set"
   ]
  }
 ],
 "metadata": {
  "kernelspec": {
   "display_name": "Python 3 (ipykernel)",
   "language": "python",
   "name": "python3"
  },
  "language_info": {
   "codemirror_mode": {
    "name": "ipython",
    "version": 3
   },
   "file_extension": ".py",
   "mimetype": "text/x-python",
   "name": "python",
   "nbconvert_exporter": "python",
   "pygments_lexer": "ipython3",
   "version": "3.11.5"
  }
 },
 "nbformat": 4,
 "nbformat_minor": 5
}
